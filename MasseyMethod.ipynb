{
 "cells": [
  {
   "cell_type": "code",
   "execution_count": null,
   "metadata": {},
   "outputs": [],
   "source": []
  },
  {
   "cell_type": "code",
   "execution_count": 1,
   "metadata": {},
   "outputs": [],
   "source": [
    "import numpy as np\n",
    "import pandas as pd"
   ]
  },
  {
   "cell_type": "code",
   "execution_count": 2,
   "metadata": {},
   "outputs": [],
   "source": [
    "def agg_scores(score_list):\n",
    "    df_score = pd.DataFrame(score_list, columns = ['team_1', 'team_2', 'score_1', 'score_2'])\n",
    "    df_score2 = df_score.copy()\n",
    "    \n",
    "    columns_titles = ['team_2','team_1', 'score_2', 'score_1']\n",
    "    df_score2=df_score2.reindex(columns=columns_titles)\n",
    "    df_score2.rename(columns={'team_2': 'team_1', 'team_1': 'team_2', 'score_2': 'score_1', 'score_1': 'score_2'}, inplace = True)\n",
    "    \n",
    "    df_score = df_score.append(df_score2, ignore_index = True)\n",
    "    df_score['margin'] = df_score['score_1'] - df_score['score_2']\n",
    "    \n",
    "    return df_score"
   ]
  },
  {
   "cell_type": "code",
   "execution_count": 3,
   "metadata": {},
   "outputs": [],
   "source": [
    "def generate_point_diff(df):\n",
    "    teams = sorted(df_score['team_1'].unique())\n",
    "    total_teams = len(teams)\n",
    "\n",
    "    point_differential = np.zeros((total_teams))\n",
    "    points_for = np.zeros((total_teams))\n",
    "    points_against = np.zeros((total_teams))\n",
    "    \n",
    "    for idx, team in enumerate(teams):\n",
    "        point_differential[idx] = df.loc[df['team_1'] == team]['margin'].sum()\n",
    "        points_for[idx] = df.loc[df['team_1'] == team]['score_1'].sum()\n",
    "        points_against[idx] = df.loc[df['team_1'] == team]['score_2'].sum()\n",
    "\n",
    "    return point_differential, points_for, points_against"
   ]
  },
  {
   "cell_type": "code",
   "execution_count": 4,
   "metadata": {},
   "outputs": [],
   "source": [
    "def matrix_M(df):\n",
    "    total_games = df['team_1'].value_counts().sort_index(ascending=False).sort_values(ascending=False).tolist()\n",
    "    teams = sorted(df_score['team_1'].unique())\n",
    "    total_teams = len(teams)\n",
    "    \n",
    "    M = np.ones((total_teams, total_teams)) * -1\n",
    "    row, col = np.diag_indices_from(M)\n",
    "    M[row,col] = np.array(total_games)\n",
    "    return M"
   ]
  },
  {
   "cell_type": "code",
   "execution_count": 9,
   "metadata": {},
   "outputs": [],
   "source": [
    "def calculate_rating(M, point_differential):\n",
    "    M_ = M.copy()\n",
    "    p = point_differential.copy()\n",
    "    M_[4,:] = np.array([1,1,1,1,1])\n",
    "    p[-1] = 0\n",
    "\n",
    "    return np.linalg.solve(M_, p) "
   ]
  },
  {
   "cell_type": "code",
   "execution_count": 74,
   "metadata": {},
   "outputs": [],
   "source": [
    "def defensive_score(M, r, points_for):\n",
    "    # Matriz diagonal\n",
    "    T = np.diag(np.diag(M))\n",
    "    P = T - M\n",
    "\n",
    "    a = T + P\n",
    "    b = T.dot(r) - points_for\n",
    "    return np.round(np.linalg.solve(a, b), decimals=2)\n"
   ]
  },
  {
   "cell_type": "code",
   "execution_count": 82,
   "metadata": {},
   "outputs": [],
   "source": [
    "def ranking(list_to_rank):\n",
    "    list_size = len(list_to_rank)\n",
    "    rank = [0]*list_size\n",
    "    \n",
    "    for pos, idx in enumerate(np.argsort(list_to_rank)[::-1]):\n",
    "        rank[idx] = pos + 1\n",
    "\n",
    "    return rank"
   ]
  },
  {
   "cell_type": "code",
   "execution_count": 80,
   "metadata": {},
   "outputs": [],
   "source": [
    "def massey_rank(score_list):\n",
    "    df_score = agg_scores(games_score)\n",
    "    point_differential, points_for, points_against = generate_point_diff(df_score)\n",
    "    M = matrix_M(df_score)\n",
    "    r = calculate_rating(M, point_differential)\n",
    "    defensive = defensive_score(M, r, points_for)\n",
    "    ofensive = r - defensive\n",
    "    \n",
    "    teams = sorted(df_score['team_1'].unique())\n",
    "    rank_r = ranking(r)\n",
    "    rank_ofensive = ranking(ofensive)\n",
    "    rank_defensive = ranking(defensive)\n",
    "    \n",
    "    list_of_tuples = list(zip(teams, r, rank_r, ofensive, rank_ofensive, defensive, rank_defensive))  \n",
    "    return pd.DataFrame(list_of_tuples, columns = ['Team', 'r', 'Rank with r', 'o', 'Offensive Rank', 'd', 'Dfensive Rank'])    "
   ]
  }
 ],
 "metadata": {
  "kernelspec": {
   "display_name": "Python 3",
   "language": "python",
   "name": "python3"
  },
  "language_info": {
   "codemirror_mode": {
    "name": "ipython",
    "version": 3
   },
   "file_extension": ".py",
   "mimetype": "text/x-python",
   "name": "python",
   "nbconvert_exporter": "python",
   "pygments_lexer": "ipython3",
   "version": "3.7.0"
  }
 },
 "nbformat": 4,
 "nbformat_minor": 2
}
